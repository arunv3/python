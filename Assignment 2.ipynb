{
 "cells": [
  {
   "cell_type": "code",
   "execution_count": 67,
   "metadata": {},
   "outputs": [
    {
     "name": "stdout",
     "output_type": "stream",
     "text": [
      "<function my_add at 0x0000022208159438>\n",
      "15\n",
      "<function my_mul at 0x0000022208159558>\n",
      "120\n",
      "<function my_div at 0x00000222080743A8>\n",
      "1.875\n",
      "<function <lambda> at 0x0000022208159708>\n",
      "15\n",
      "<function <lambda> at 0x00000222081599D8>\n",
      "5\n"
     ]
    }
   ],
   "source": [
    "# Write a Python Program to implement your own myreduce() function which works exactly like\n",
    "# Python's built-in function reduce()\n",
    "\n",
    "def my_add(a,b):\n",
    "    return a+b\n",
    "\n",
    "def my_mul(a,b):\n",
    "    return a*b\n",
    "\n",
    "def my_div(a,b):\n",
    "    return a/b\n",
    "\n",
    "def my_reduce(c,d):\n",
    "    if d[1] == None:\n",
    "        print(\"List has 1 or no values\")\n",
    "    else:\n",
    "        x = d[0]\n",
    "    for i in range(1,len(d)):\n",
    "        x = c(d[i],x)\n",
    "    print(x)       \n",
    "    \n",
    "        \n",
    "my_reduce(my_add,[1,2,3,4,5])        \n",
    "my_reduce(my_mul,[1,2,3,4,5])  \n",
    "my_reduce(my_div,[1,2,3,4,5]) \n",
    "\n",
    "my_reduce(lambda x,y:x+y,[1,2,3,4,5])\n",
    "\n",
    "my_reduce(lambda a,b: a if (a > b) else b,[1,2,3,4,5])"
   ]
  },
  {
   "cell_type": "code",
   "execution_count": 76,
   "metadata": {
    "scrolled": true
   },
   "outputs": [
    {
     "data": {
      "text/plain": [
       "[2, 4]"
      ]
     },
     "execution_count": 76,
     "metadata": {},
     "output_type": "execute_result"
    }
   ],
   "source": [
    "# Write a Python program to implement your own myfilter() function which works exactly like\n",
    "# Python's built-in function filter()\n",
    "\n",
    "l = [1,2,3,4,5]\n",
    "type(l)\n",
    "\n",
    "d = [2]\n",
    "\n",
    "def even_check(n):\n",
    "    if n % 2 == 0:\n",
    "        return n\n",
    "\n",
    "def my_filter(x,y):\n",
    "    k = []\n",
    "    for i in y:\n",
    "        if x(i):\n",
    "            k.append(x(i))\n",
    "    return k\n",
    "    \n",
    "\n",
    "my_filter(even_check,l)\n"
   ]
  },
  {
   "cell_type": "code",
   "execution_count": 78,
   "metadata": {},
   "outputs": [
    {
     "data": {
      "text/plain": [
       "['A', 'C', 'A', 'D', 'G', 'I', 'L', 'D']"
      ]
     },
     "execution_count": 78,
     "metadata": {},
     "output_type": "execute_result"
    }
   ],
   "source": [
    "# Implement List comprehensions to produce the following lists.\n",
    "# Write List comprehensions to produce the following Lists\n",
    "# ['A', 'C', 'A', 'D', 'G', 'I', ’L’, ‘ D’]\n",
    "# ['x', 'xx', 'xxx', 'xxxx', 'y', 'yy', 'yyy', 'yyyy', 'z', 'zz', 'zzz', 'zzzz']\n",
    "# ['x', 'y', 'z', 'xx', 'yy', 'zz', 'xx', 'yy', 'zz', 'xxxx', 'yyyy', 'zzzz']\n",
    "# [[2], [3], [4], [3], [4], [5], [4], [5], [6]]\n",
    "# [[2, 3, 4, 5], [3, 4, 5, 6], [4, 5, 6, 7], [5, 6, 7, 8]]\n",
    "# [(1, 1), (2, 1), (3, 1), (1, 2), (2, 2), (3, 2), (1, 3), (2, 3), (3, 3)]\n",
    "\n",
    "s = 'ACADGILD'\n",
    "[i for i in s]\n"
   ]
  },
  {
   "cell_type": "code",
   "execution_count": 42,
   "metadata": {},
   "outputs": [
    {
     "data": {
      "text/plain": [
       "['x', 'y', 'z', 'xx', 'yy', 'zz', 'xxx', 'yyy', 'zzz', 'xxxx', 'yyyy', 'zzzz']"
      ]
     },
     "execution_count": 42,
     "metadata": {},
     "output_type": "execute_result"
    }
   ],
   "source": [
    "xyz = ['x','y','z']\n",
    "[i * k for k in range(1,5) for i in xyz ]"
   ]
  },
  {
   "cell_type": "code",
   "execution_count": 79,
   "metadata": {},
   "outputs": [
    {
     "data": {
      "text/plain": [
       "['x', 'xx', 'xxx', 'xxxx', 'y', 'yy', 'yyy', 'yyyy', 'z', 'zz', 'zzz', 'zzzz']"
      ]
     },
     "execution_count": 79,
     "metadata": {},
     "output_type": "execute_result"
    }
   ],
   "source": [
    "xyz = ['x','y','z']\n",
    "[i * k for i in xyz for k in range(1,5)]"
   ]
  },
  {
   "cell_type": "code",
   "execution_count": 43,
   "metadata": {},
   "outputs": [
    {
     "data": {
      "text/plain": [
       "[[2], [3], [4], [3], [4], [5], [4], [5], [6]]"
      ]
     },
     "execution_count": 43,
     "metadata": {},
     "output_type": "execute_result"
    }
   ],
   "source": [
    "j = [2,3,4]\n",
    "[[value+num] for value in j for num in range(0,3)]\n"
   ]
  },
  {
   "cell_type": "code",
   "execution_count": 45,
   "metadata": {},
   "outputs": [
    {
     "data": {
      "text/plain": [
       "[[2, 3, 4, 5], [3, 4, 5, 6], [4, 5, 6, 7], [5, 6, 7, 8]]"
      ]
     },
     "execution_count": 45,
     "metadata": {},
     "output_type": "execute_result"
    }
   ],
   "source": [
    "j1 = [2,3,4,5]\n",
    "[[value+num for value in j1] for num in range(0,4)]"
   ]
  },
  {
   "cell_type": "code",
   "execution_count": 46,
   "metadata": {},
   "outputs": [
    {
     "data": {
      "text/plain": [
       "[(1, 1), (2, 1), (3, 1), (1, 2), (2, 2), (3, 2), (1, 3), (2, 3), (3, 3)]"
      ]
     },
     "execution_count": 46,
     "metadata": {},
     "output_type": "execute_result"
    }
   ],
   "source": [
    "j2 = [1,2,3]\n",
    "[(b,a) for a in j2 for b in j2]"
   ]
  },
  {
   "cell_type": "code",
   "execution_count": 8,
   "metadata": {},
   "outputs": [
    {
     "data": {
      "text/plain": [
       "22.44994432064365"
      ]
     },
     "execution_count": 8,
     "metadata": {},
     "output_type": "execute_result"
    }
   ],
   "source": [
    "# Write a Python Program(with class concepts) to find the area of the triangle using the below\n",
    "# formula.\n",
    "# area = (s*(s-a)*(s-b)*(s-c)) ** 0.5\n",
    "# Function to take the length of the sides of triangle from user should be defined in the parent\n",
    "# class and function to calculate the area should be defined in subclass.\n",
    "\n",
    "class inp_triangle:\n",
    "    def __init__(self,a,b,c):\n",
    "        self.a = float(a)\n",
    "        self.b = float(b)\n",
    "        self.c = float(c)\n",
    "        \n",
    "    def print_values(self,a,b,c):\n",
    "        return \"Values entered are %s %s %s\" %(self.a, self.b, self.c)\n",
    "\n",
    "class area_triangle(inp_triangle):\n",
    "    def __init(self,*args):\n",
    "        super(inp_triangle,self).__init__(*args)\n",
    "    def area_t(self):\n",
    "        s = float((self.a+self.b+self.c)/2)\n",
    "        area = (s*(s-self.a)*(s-self.b)*(s-self.c)) ** 0.5\n",
    "        return area\n",
    "\n",
    "t = area_triangle(5,9,10)\n",
    "t.area_t()\n",
    "       \n",
    "        "
   ]
  },
  {
   "cell_type": "code",
   "execution_count": 1,
   "metadata": {},
   "outputs": [
    {
     "data": {
      "text/plain": [
       "'abcxyz'"
      ]
     },
     "execution_count": 1,
     "metadata": {},
     "output_type": "execute_result"
    }
   ],
   "source": [
    "# Write a function filter_long_words() that takes a list of words and an integer n and returns the list\n",
    "# of words that are longer than n.\n",
    "\n",
    "from functools import reduce\n",
    "\n",
    "longestWord = lambda a,b: a if (len(a) > len(b)) else b\n",
    "\n",
    "name_lst = ['a', 'abc', 'defg', 'xyz', 'ab', 'abcxyz']  \n",
    "reduce(longestWord,name_lst)\n"
   ]
  },
  {
   "cell_type": "code",
   "execution_count": 107,
   "metadata": {},
   "outputs": [
    {
     "data": {
      "text/plain": [
       "[1, 3, 4, 3, 2, 6]"
      ]
     },
     "execution_count": 107,
     "metadata": {},
     "output_type": "execute_result"
    }
   ],
   "source": [
    "# Write a Python program using function concept that maps list of words into a list of integers\n",
    "# representing the lengths of the corresponding words.\n",
    "# Hint: If a list [ ab,cde,erty] is passed on to the python function output should come as [2,3,4]\n",
    "# Here 2,3 and 4 are the lengths of the words in the list.\n",
    "\n",
    "name_lst = ['a', 'abc', 'defg', 'xyz', 'ab', 'abcxyz']\n",
    "\n",
    "list(map(lambda x: len(x),name_lst))"
   ]
  },
  {
   "cell_type": "code",
   "execution_count": 108,
   "metadata": {},
   "outputs": [
    {
     "data": {
      "text/plain": [
       "[True]"
      ]
     },
     "execution_count": 108,
     "metadata": {},
     "output_type": "execute_result"
    }
   ],
   "source": [
    "# Write a Python function which takes a character (i.e. a string of length 1) and returns True if it is\n",
    "# a vowel, False otherwise\n",
    "\n",
    "name_lst = 'e'\n",
    "\n",
    "list(map(lambda x: x == 'a' or x == 'e' or x == 'i' or x == 'o' or x == 'u',name_lst))\n"
   ]
  },
  {
   "cell_type": "code",
   "execution_count": null,
   "metadata": {},
   "outputs": [],
   "source": []
  }
 ],
 "metadata": {
  "kernelspec": {
   "display_name": "Python 3",
   "language": "python",
   "name": "python3"
  },
  "language_info": {
   "codemirror_mode": {
    "name": "ipython",
    "version": 3
   },
   "file_extension": ".py",
   "mimetype": "text/x-python",
   "name": "python",
   "nbconvert_exporter": "python",
   "pygments_lexer": "ipython3",
   "version": "3.7.6"
  }
 },
 "nbformat": 4,
 "nbformat_minor": 4
}
