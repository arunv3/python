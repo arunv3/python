{
 "cells": [
  {
   "cell_type": "code",
   "execution_count": 2,
   "metadata": {},
   "outputs": [
    {
     "name": "stdout",
     "output_type": "stream",
     "text": [
      "division by zero\n"
     ]
    }
   ],
   "source": [
    "# Write a function to compute 5/0 and use try/except to catch the exceptions.\n",
    "\n",
    "def compute():\n",
    "    try:\n",
    "        x =5/0\n",
    "    except Exception as e:\n",
    "        print(e)\n",
    "\n",
    "compute()\n",
    "        "
   ]
  },
  {
   "cell_type": "code",
   "execution_count": 4,
   "metadata": {},
   "outputs": [
    {
     "data": {
      "text/plain": [
       "[['Americans play Baseball'],\n",
       " ['Americans play Cricket'],\n",
       " ['Americans watch Baseball'],\n",
       " ['Americans watch Cricket'],\n",
       " ['Indians play Baseball'],\n",
       " ['Indians play Cricket'],\n",
       " ['Indians watch Baseball'],\n",
       " ['Indians watch Cricket']]"
      ]
     },
     "execution_count": 4,
     "metadata": {},
     "output_type": "execute_result"
    }
   ],
   "source": [
    "# Implement a Python program to generate all sentences where subject is in \n",
    "# [\"Americans\",\"Indians\"] and verb is in \n",
    "# [\"Play\", \"watch\"] and the object is in \n",
    "# [\"Baseball\",\"cricket\"].\n",
    "\n",
    "subjects=[\"Americans\",\"Indians\"]\n",
    "verbs=[\"play\",\"watch\"]\n",
    "objects=[\"Baseball\",\"Cricket\"]\n",
    "\n",
    "[[s+\" \"+v+\" \"+o] for s in subjects for v in verbs for o in objects]"
   ]
  },
  {
   "cell_type": "code",
   "execution_count": 17,
   "metadata": {},
   "outputs": [
    {
     "data": {
      "text/plain": [
       "[1, 1, 1, 1, 2, 4, 1, 3, 9, 1, 4, 16, 1, 5, 25]"
      ]
     },
     "execution_count": 17,
     "metadata": {},
     "output_type": "execute_result"
    }
   ],
   "source": [
    "# Write a function so that the columns of the output matrix are powers of the input vector.\n",
    "# The order of the powers is determined by the increasing boolean argument. Specifically, when\n",
    "# increasing is False, the i-th output column is the input vector raised element-wise to the power\n",
    "# of N - i - 1.\n",
    "\n",
    "x = [1,2,3,4,5]\n",
    "N = 3\n",
    "\n",
    "[j**(N-1-i) for j in x for i in reversed(range(N))]"
   ]
  },
  {
   "cell_type": "code",
   "execution_count": 13,
   "metadata": {},
   "outputs": [
    {
     "name": "stdout",
     "output_type": "stream",
     "text": [
      "******\n",
      "[]\n",
      "iter1= 1\n",
      "iter2= 0\n",
      "25\n",
      "iter1= 1\n",
      "iter2= 1\n",
      "5\n",
      "iter1= 1\n",
      "iter2= 2\n",
      "1\n",
      "******\n",
      "[25, 5, 1]\n",
      "iter1= 2\n",
      "iter2= 0\n",
      "25\n",
      "iter1= 2\n",
      "iter2= 1\n",
      "5\n",
      "iter1= 2\n",
      "iter2= 2\n",
      "1\n",
      "******\n",
      "[25, 5, 1]\n",
      "iter1= 3\n",
      "iter2= 0\n",
      "25\n",
      "iter1= 3\n",
      "iter2= 1\n",
      "5\n",
      "iter1= 3\n",
      "iter2= 2\n",
      "1\n",
      "******\n",
      "[25, 5, 1]\n",
      "iter1= 4\n",
      "iter2= 0\n",
      "25\n",
      "iter1= 4\n",
      "iter2= 1\n",
      "5\n",
      "iter1= 4\n",
      "iter2= 2\n",
      "1\n",
      "******\n",
      "[25, 5, 1]\n",
      "iter1= 5\n",
      "iter2= 0\n",
      "25\n",
      "iter1= 5\n",
      "iter2= 1\n",
      "5\n",
      "iter1= 5\n",
      "iter2= 2\n",
      "1\n"
     ]
    }
   ],
   "source": [
    "x = [1,2,3,4,5]\n",
    "N = 3\n",
    "v= []\n",
    "va = []\n",
    "for iter1 in x:\n",
    "    print(\"******\")\n",
    "    print(va)\n",
    "    v.append(va)\n",
    "    va = []\n",
    "    for iter2 in (range(N)):\n",
    "        print(\"iter1=\",iter1)\n",
    "        print(\"iter2=\",iter2)\n",
    "        va.append(j**(N-1-iter2))\n",
    "        print(j**(N-1-iter2))\n",
    "        "
   ]
  },
  {
   "cell_type": "code",
   "execution_count": 6,
   "metadata": {},
   "outputs": [
    {
     "data": {
      "text/plain": [
       "[[1, 1, 1, 4, 2, 1, 9, 3, 1, 16, 4, 1, 25, 5, 1],\n",
       " [1, 1, 1],\n",
       " [4, 2, 1],\n",
       " [9, 3, 1],\n",
       " [16, 4, 1]]"
      ]
     },
     "execution_count": 6,
     "metadata": {},
     "output_type": "execute_result"
    }
   ],
   "source": [
    "v"
   ]
  },
  {
   "cell_type": "code",
   "execution_count": 18,
   "metadata": {},
   "outputs": [
    {
     "data": {
      "text/plain": [
       "array([[  1,   1,   1,   1],\n",
       "       [  2,   4,   8,  16],\n",
       "       [  3,   9,  27,  81],\n",
       "       [  4,  16,  64, 256],\n",
       "       [  5,  25, 125, 625]])"
      ]
     },
     "execution_count": 18,
     "metadata": {},
     "output_type": "execute_result"
    }
   ],
   "source": [
    "import numpy as np\n",
    "np.vander(x, 5, increasing=True)[:, 1:]\n"
   ]
  },
  {
   "cell_type": "code",
   "execution_count": null,
   "metadata": {},
   "outputs": [],
   "source": []
  }
 ],
 "metadata": {
  "kernelspec": {
   "display_name": "Python 3",
   "language": "python",
   "name": "python3"
  },
  "language_info": {
   "codemirror_mode": {
    "name": "ipython",
    "version": 3
   },
   "file_extension": ".py",
   "mimetype": "text/x-python",
   "name": "python",
   "nbconvert_exporter": "python",
   "pygments_lexer": "ipython3",
   "version": "3.7.6"
  }
 },
 "nbformat": 4,
 "nbformat_minor": 4
}
